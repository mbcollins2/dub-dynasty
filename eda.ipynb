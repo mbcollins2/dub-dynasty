{
 "cells": [
  {
   "cell_type": "markdown",
   "metadata": {},
   "source": [
    "# EDA of Dub Dynasty League"
   ]
  },
  {
   "cell_type": "markdown",
   "metadata": {},
   "source": [
    "## Setup"
   ]
  },
  {
   "cell_type": "code",
   "execution_count": 7,
   "metadata": {},
   "outputs": [],
   "source": [
    "# imports\n",
    "import numpy as np\n",
    "import pandas as pd\n",
    "import pickle\n",
    "import plotly.express as px\n",
    "pd.set_option('max_rows',1000)\n",
    "pd.set_option('max_columns',1000)"
   ]
  },
  {
   "cell_type": "code",
   "execution_count": 9,
   "metadata": {},
   "outputs": [],
   "source": [
    "# load league data\n",
    "p = open('league.pkl', 'rb')\n",
    "league = pickle.load(p)"
   ]
  },
  {
   "cell_type": "markdown",
   "metadata": {},
   "source": [
    "## Preview My Team"
   ]
  },
  {
   "cell_type": "code",
   "execution_count": 10,
   "metadata": {},
   "outputs": [],
   "source": [
    "# bf = league.teams[2]"
   ]
  },
  {
   "cell_type": "code",
   "execution_count": 11,
   "metadata": {},
   "outputs": [],
   "source": [
    "# bf.roster"
   ]
  },
  {
   "cell_type": "markdown",
   "metadata": {},
   "source": [
    "## Matchup"
   ]
  },
  {
   "cell_type": "code",
   "execution_count": 23,
   "metadata": {},
   "outputs": [
    {
     "data": {
      "text/plain": [
       "Box Score(Team(Hield Raisers ) at Team(Ball Fondlers))"
      ]
     },
     "execution_count": 23,
     "metadata": {},
     "output_type": "execute_result"
    }
   ],
   "source": [
    "league.box_scores()[2]"
   ]
  },
  {
   "cell_type": "markdown",
   "metadata": {},
   "source": [
    "## Free Agents"
   ]
  },
  {
   "cell_type": "code",
   "execution_count": 12,
   "metadata": {},
   "outputs": [],
   "source": [
    "fa = pd.DataFrame()\n",
    "\n",
    "for player in league.free_agents(size=1000):\n",
    "    row = []\n",
    "\n",
    "    row.append(player.name)\n",
    "    row.append(player.proTeam)\n",
    "    row.append(player.position)\n",
    "    row.append(player.injuryStatus)\n",
    "    row.append(player.injured)\n",
    "\n",
    "    # total\n",
    "    try:\n",
    "        row.append(player.stats['total_2022'].get('total')['GP'])\n",
    "        row.append(player.stats['total_2022'].get('total')['GS'])\n",
    "        row.append(player.stats['total_2022'].get('total')['MIN'])\n",
    "        row.append(player.stats['total_2022'].get('total')['MPG'])\n",
    "        row.append(player.stats['total_2022'].get('applied_total'))\n",
    "        row.append(player.stats['total_2022'].get('applied_avg'))\n",
    "    except:\n",
    "        row.append(np.nan)\n",
    "        row.append(np.nan)\n",
    "        row.append(np.nan)\n",
    "        row.append(np.nan)\n",
    "        row.append(np.nan)\n",
    "        row.append(np.nan)\n",
    "\n",
    "    # last 30\n",
    "    try:\n",
    "        row.append(player.stats['last_30_2022'].get('total')['GP'])\n",
    "        row.append(player.stats['last_30_2022'].get('total')['GS'])\n",
    "        row.append(player.stats['last_30_2022'].get('total')['MIN'])\n",
    "        row.append(player.stats['last_30_2022'].get('total')['MPG'])\n",
    "        row.append(player.stats['last_30_2022'].get('applied_total'))\n",
    "        row.append(player.stats['last_30_2022'].get('applied_avg'))\n",
    "    except:\n",
    "        row.append(np.nan)\n",
    "        row.append(np.nan)\n",
    "        row.append(np.nan)\n",
    "        row.append(np.nan)\n",
    "        row.append(np.nan)\n",
    "        row.append(np.nan)\n",
    "\n",
    "    # last 15\n",
    "    try:\n",
    "        row.append(player.stats['last_15_2022'].get('total')['GP'])\n",
    "        row.append(player.stats['last_15_2022'].get('total')['GS'])\n",
    "        row.append(player.stats['last_15_2022'].get('total')['MIN'])\n",
    "        row.append(player.stats['last_15_2022'].get('total')['MPG'])\n",
    "        row.append(player.stats['last_15_2022'].get('applied_total'))\n",
    "        row.append(player.stats['last_15_2022'].get('applied_avg'))\n",
    "    except:\n",
    "        row.append(np.nan)\n",
    "        row.append(np.nan)\n",
    "        row.append(np.nan)\n",
    "        row.append(np.nan)\n",
    "        row.append(np.nan)\n",
    "        row.append(np.nan)\n",
    "\n",
    "    # last 7\n",
    "    try:\n",
    "        row.append(player.stats['last_7_2022'].get('total')['GP'])\n",
    "        row.append(player.stats['last_7_2022'].get('total')['GS'])\n",
    "        row.append(player.stats['last_7_2022'].get('total')['MIN'])\n",
    "        row.append(player.stats['last_7_2022'].get('total')['MPG'])\n",
    "        row.append(player.stats['last_7_2022'].get('applied_total'))\n",
    "        row.append(player.stats['last_7_2022'].get('applied_avg'))\n",
    "    except:\n",
    "        row.append(np.nan)\n",
    "        row.append(np.nan)\n",
    "        row.append(np.nan)\n",
    "        row.append(np.nan)\n",
    "        row.append(np.nan)\n",
    "        row.append(np.nan)\n",
    "\n",
    "\n",
    "    fa = fa.append([row])\n",
    "\n",
    "fa = fa.reset_index(drop=True)\n",
    "\n",
    "fa.columns = [\n",
    "    'name'\n",
    "    ,'team'\n",
    "    ,'position'\n",
    "    ,'injury_status'\n",
    "    ,'injured'\n",
    "\n",
    "    # total\n",
    "    ,'total_gp'\n",
    "    ,'total_gs'\n",
    "    ,'total_min'\n",
    "    ,'total_mpg'\n",
    "    ,'total_fpts'\n",
    "    ,'total_favg'\n",
    "\n",
    "    # last 30\n",
    "    ,'l30_gp'\n",
    "    ,'l30_gs'\n",
    "    ,'l30_min'\n",
    "    ,'l30_mpg'\n",
    "    ,'l30_fpts'\n",
    "    ,'l30_favg'\n",
    "\n",
    "    # last 15\n",
    "    ,'l15_gp'\n",
    "    ,'l15_gs'\n",
    "    ,'l15_min'\n",
    "    ,'l15_mpg'\n",
    "    ,'l15_fpts'\n",
    "    ,'l15_favg'\n",
    "\n",
    "    # last 7\n",
    "    ,'l7_gp'\n",
    "    ,'l7_gs'\n",
    "    ,'l7_min'\n",
    "    ,'l7_mpg'\n",
    "    ,'l7_fpts'\n",
    "    ,'l7_favg'\n",
    "]\n",
    "\n",
    "# replace NaN with 0\n",
    "fa = fa.fillna(0.0)\n",
    "\n",
    "# convert float cols to int\n",
    "fa.loc[:, fa.dtypes=='float'] = fa.select_dtypes(float).astype('int')\n",
    "\n",
    "# filter out players with no injury status as they appear to be inactive\n",
    "fa = fa.loc[fa.injury_status.str.len() != 0]\n",
    "\n",
    "# add max columns - do i need the max columns, or just the ratios?\n",
    "# fa['total_gp_max'] = fa.total_gp.max()\n",
    "# fa['total_gs_max'] = fa.total_gs.max()\n",
    "# fa['total_min_max'] = fa.total_min.max()\n",
    "# fa['total_mpg_max'] = fa.total_mpg.max()\n",
    "# fa['total_fpts_max'] = fa.total_fpts.max()\n",
    "# fa['total_favg_max'] = fa.total_favg.max()\n",
    "\n",
    "# fa['l30_gp_max'] = fa.l30_gp.max()\n",
    "# fa['l30_gs_max'] = fa.l30_gs.max()\n",
    "# fa['l30_min_max'] = fa.l30_min.max()\n",
    "# fa['l30_mpg_max'] = fa.l30_mpg.max()\n",
    "# fa['l30_fpts_max'] = fa.l30_fpts.max()\n",
    "# fa['l30_favg_max'] = fa.l30_favg.max()\n",
    "\n",
    "# fa['l15_gp_max'] = fa.l15_gp.max()\n",
    "# fa['l15_gs_max'] = fa.l15_gs.max()\n",
    "# fa['l15_min_max'] = fa.l15_min.max()\n",
    "# fa['l15_mpg_max'] = fa.l15_mpg.max()\n",
    "# fa['l15_fpts_max'] = fa.l15_fpts.max()\n",
    "# fa['l15_favg_max'] = fa.l15_favg.max()\n",
    "\n",
    "# fa['l7_gp_max'] = fa.l7_gp.max()\n",
    "# fa['l7_gs_max'] = fa.l7_gs.max()\n",
    "# fa['l7_min_max'] = fa.l7_min.max()\n",
    "# fa['l7_mpg_max'] = fa.l7_mpg.max()\n",
    "# fa['l7_fpts_max'] = fa.l7_fpts.max()\n",
    "# fa['l7_favg_max'] = fa.l7_favg.max()\n",
    "\n",
    "# add ratio columns\n",
    "fa['total_gp_ratio'] = round(fa['total_gp'] / fa.total_gp.max(), 2)\n",
    "fa['l30_gp_ratio'] = round(fa['l30_gp'] / fa.l30_gp.max(), 2)\n",
    "fa['l15_gp_ratio'] = round(fa['l15_gp'] / fa.l15_gp.max(), 2)\n",
    "fa['l7_gp_ratio'] = round(fa['l7_gp'] / fa.l7_gp.max(), 2)\n",
    "\n",
    "fa['total_gs_ratio'] = round(fa['total_gs'] / fa.total_gs.max(), 2)\n",
    "fa['l30_gs_ratio'] = round(fa['l30_gs'] / fa.l30_gs.max(), 2)\n",
    "fa['l15_gs_ratio'] = round(fa['l15_gs'] / fa.l15_gs.max(), 2)\n",
    "fa['l7_gs_ratio'] = round(fa['l7_gs'] / fa.l7_gs.max(), 2)\n",
    "\n",
    "fa['total_min_ratio'] = round(fa['total_min'] / fa.total_min.max(), 2)\n",
    "fa['l30_min_ratio'] = round(fa['l30_min'] / fa.l30_min.max(), 2)\n",
    "fa['l15_min_ratio'] = round(fa['l15_min'] / fa.l15_min.max(), 2)\n",
    "fa['l7_min_ratio'] = round(fa['l7_min'] / fa.l7_min.max(), 2)\n",
    "\n",
    "fa['total_mpg_ratio'] = round(fa['total_mpg'] / fa.total_mpg.max(), 2)\n",
    "fa['l30_mpg_ratio'] = round(fa['l30_mpg'] / fa.l30_mpg.max(), 2)\n",
    "fa['l15_mpg_ratio'] = round(fa['l15_mpg'] / fa.l15_mpg.max(), 2)\n",
    "fa['l7_mpg_ratio'] = round(fa['l7_mpg'] / fa.l7_mpg.max(), 2)\n",
    "\n",
    "fa['total_fpts_ratio'] = round(fa['total_fpts'] / fa.total_fpts.max(), 2)\n",
    "fa['l30_fpts_ratio'] = round(fa['l30_fpts'] / fa.l30_fpts.max(), 2)\n",
    "fa['l15_fpts_ratio'] = round(fa['l15_fpts'] / fa.l15_fpts.max(), 2)\n",
    "fa['l7_fpts_ratio'] = round(fa['l7_fpts'] / fa.l7_fpts.max(), 2)\n",
    "\n",
    "fa['total_favg_ratio'] = round(fa['total_favg'] / fa.total_favg.max(), 2)\n",
    "fa['l30_favg_ratio'] = round(fa['l30_favg'] / fa.l30_favg.max(), 2)\n",
    "fa['l15_favg_ratio'] = round(fa['l15_favg'] / fa.l15_favg.max(), 2)\n",
    "fa['l7_favg_ratio'] = round(fa['l7_favg'] / fa.l7_favg.max(), 2)"
   ]
  },
  {
   "cell_type": "code",
   "execution_count": 13,
   "metadata": {},
   "outputs": [
    {
     "data": {
      "text/html": [
       "<div>\n",
       "<style scoped>\n",
       "    .dataframe tbody tr th:only-of-type {\n",
       "        vertical-align: middle;\n",
       "    }\n",
       "\n",
       "    .dataframe tbody tr th {\n",
       "        vertical-align: top;\n",
       "    }\n",
       "\n",
       "    .dataframe thead th {\n",
       "        text-align: right;\n",
       "    }\n",
       "</style>\n",
       "<table border=\"1\" class=\"dataframe\">\n",
       "  <thead>\n",
       "    <tr style=\"text-align: right;\">\n",
       "      <th></th>\n",
       "      <th>name</th>\n",
       "      <th>team</th>\n",
       "      <th>position</th>\n",
       "      <th>injury_status</th>\n",
       "      <th>injured</th>\n",
       "      <th>total_gp</th>\n",
       "      <th>total_gs</th>\n",
       "      <th>total_min</th>\n",
       "      <th>total_mpg</th>\n",
       "      <th>total_fpts</th>\n",
       "      <th>total_favg</th>\n",
       "      <th>l30_gp</th>\n",
       "      <th>l30_gs</th>\n",
       "      <th>l30_min</th>\n",
       "      <th>l30_mpg</th>\n",
       "      <th>l30_fpts</th>\n",
       "      <th>l30_favg</th>\n",
       "      <th>l15_gp</th>\n",
       "      <th>l15_gs</th>\n",
       "      <th>l15_min</th>\n",
       "      <th>l15_mpg</th>\n",
       "      <th>l15_fpts</th>\n",
       "      <th>l15_favg</th>\n",
       "      <th>l7_gp</th>\n",
       "      <th>l7_gs</th>\n",
       "      <th>l7_min</th>\n",
       "      <th>l7_mpg</th>\n",
       "      <th>l7_fpts</th>\n",
       "      <th>l7_favg</th>\n",
       "      <th>total_gp_ratio</th>\n",
       "      <th>l30_gp_ratio</th>\n",
       "      <th>l15_gp_ratio</th>\n",
       "      <th>l7_gp_ratio</th>\n",
       "      <th>total_gs_ratio</th>\n",
       "      <th>l30_gs_ratio</th>\n",
       "      <th>l15_gs_ratio</th>\n",
       "      <th>l7_gs_ratio</th>\n",
       "      <th>total_min_ratio</th>\n",
       "      <th>l30_min_ratio</th>\n",
       "      <th>l15_min_ratio</th>\n",
       "      <th>l7_min_ratio</th>\n",
       "      <th>total_mpg_ratio</th>\n",
       "      <th>l30_mpg_ratio</th>\n",
       "      <th>l15_mpg_ratio</th>\n",
       "      <th>l7_mpg_ratio</th>\n",
       "      <th>total_fpts_ratio</th>\n",
       "      <th>l30_fpts_ratio</th>\n",
       "      <th>l15_fpts_ratio</th>\n",
       "      <th>l7_fpts_ratio</th>\n",
       "      <th>total_favg_ratio</th>\n",
       "      <th>l30_favg_ratio</th>\n",
       "      <th>l15_favg_ratio</th>\n",
       "      <th>l7_favg_ratio</th>\n",
       "    </tr>\n",
       "  </thead>\n",
       "  <tbody>\n",
       "    <tr>\n",
       "      <th>0</th>\n",
       "      <td>Andre Iguodala</td>\n",
       "      <td>GSW</td>\n",
       "      <td>SF</td>\n",
       "      <td>OUT</td>\n",
       "      <td>True</td>\n",
       "      <td>25</td>\n",
       "      <td>0</td>\n",
       "      <td>511</td>\n",
       "      <td>20</td>\n",
       "      <td>481</td>\n",
       "      <td>19</td>\n",
       "      <td>9</td>\n",
       "      <td>0</td>\n",
       "      <td>189</td>\n",
       "      <td>21</td>\n",
       "      <td>163</td>\n",
       "      <td>18</td>\n",
       "      <td>7</td>\n",
       "      <td>0</td>\n",
       "      <td>141</td>\n",
       "      <td>20</td>\n",
       "      <td>109</td>\n",
       "      <td>15</td>\n",
       "      <td>3</td>\n",
       "      <td>0</td>\n",
       "      <td>62</td>\n",
       "      <td>20</td>\n",
       "      <td>44</td>\n",
       "      <td>14</td>\n",
       "      <td>0.58</td>\n",
       "      <td>0.56</td>\n",
       "      <td>0.88</td>\n",
       "      <td>0.6</td>\n",
       "      <td>0.00</td>\n",
       "      <td>0.00</td>\n",
       "      <td>0.0</td>\n",
       "      <td>0.0</td>\n",
       "      <td>0.55</td>\n",
       "      <td>0.55</td>\n",
       "      <td>0.76</td>\n",
       "      <td>0.59</td>\n",
       "      <td>0.56</td>\n",
       "      <td>0.58</td>\n",
       "      <td>0.49</td>\n",
       "      <td>0.74</td>\n",
       "      <td>0.68</td>\n",
       "      <td>0.54</td>\n",
       "      <td>0.62</td>\n",
       "      <td>0.45</td>\n",
       "      <td>0.70</td>\n",
       "      <td>0.56</td>\n",
       "      <td>0.27</td>\n",
       "      <td>0.40</td>\n",
       "    </tr>\n",
       "    <tr>\n",
       "      <th>1</th>\n",
       "      <td>Lance Stephenson</td>\n",
       "      <td>IND</td>\n",
       "      <td>SF</td>\n",
       "      <td>ACTIVE</td>\n",
       "      <td>False</td>\n",
       "      <td>16</td>\n",
       "      <td>0</td>\n",
       "      <td>261</td>\n",
       "      <td>16</td>\n",
       "      <td>271</td>\n",
       "      <td>16</td>\n",
       "      <td>16</td>\n",
       "      <td>0</td>\n",
       "      <td>261</td>\n",
       "      <td>16</td>\n",
       "      <td>271</td>\n",
       "      <td>16</td>\n",
       "      <td>7</td>\n",
       "      <td>0</td>\n",
       "      <td>129</td>\n",
       "      <td>18</td>\n",
       "      <td>138</td>\n",
       "      <td>19</td>\n",
       "      <td>4</td>\n",
       "      <td>0</td>\n",
       "      <td>48</td>\n",
       "      <td>12</td>\n",
       "      <td>25</td>\n",
       "      <td>6</td>\n",
       "      <td>0.37</td>\n",
       "      <td>1.00</td>\n",
       "      <td>0.88</td>\n",
       "      <td>0.8</td>\n",
       "      <td>0.00</td>\n",
       "      <td>0.00</td>\n",
       "      <td>0.0</td>\n",
       "      <td>0.0</td>\n",
       "      <td>0.28</td>\n",
       "      <td>0.76</td>\n",
       "      <td>0.69</td>\n",
       "      <td>0.46</td>\n",
       "      <td>0.44</td>\n",
       "      <td>0.44</td>\n",
       "      <td>0.44</td>\n",
       "      <td>0.44</td>\n",
       "      <td>0.38</td>\n",
       "      <td>0.89</td>\n",
       "      <td>0.78</td>\n",
       "      <td>0.26</td>\n",
       "      <td>0.59</td>\n",
       "      <td>0.50</td>\n",
       "      <td>0.34</td>\n",
       "      <td>0.17</td>\n",
       "    </tr>\n",
       "    <tr>\n",
       "      <th>2</th>\n",
       "      <td>DeAndre Jordan</td>\n",
       "      <td>LAL</td>\n",
       "      <td>C</td>\n",
       "      <td>ACTIVE</td>\n",
       "      <td>False</td>\n",
       "      <td>29</td>\n",
       "      <td>18</td>\n",
       "      <td>379</td>\n",
       "      <td>13</td>\n",
       "      <td>545</td>\n",
       "      <td>18</td>\n",
       "      <td>3</td>\n",
       "      <td>0</td>\n",
       "      <td>27</td>\n",
       "      <td>9</td>\n",
       "      <td>43</td>\n",
       "      <td>14</td>\n",
       "      <td>2</td>\n",
       "      <td>0</td>\n",
       "      <td>20</td>\n",
       "      <td>10</td>\n",
       "      <td>26</td>\n",
       "      <td>13</td>\n",
       "      <td>1</td>\n",
       "      <td>0</td>\n",
       "      <td>12</td>\n",
       "      <td>12</td>\n",
       "      <td>16</td>\n",
       "      <td>16</td>\n",
       "      <td>0.67</td>\n",
       "      <td>0.19</td>\n",
       "      <td>0.25</td>\n",
       "      <td>0.2</td>\n",
       "      <td>0.56</td>\n",
       "      <td>0.00</td>\n",
       "      <td>0.0</td>\n",
       "      <td>0.0</td>\n",
       "      <td>0.41</td>\n",
       "      <td>0.08</td>\n",
       "      <td>0.11</td>\n",
       "      <td>0.11</td>\n",
       "      <td>0.36</td>\n",
       "      <td>0.25</td>\n",
       "      <td>0.24</td>\n",
       "      <td>0.44</td>\n",
       "      <td>0.77</td>\n",
       "      <td>0.14</td>\n",
       "      <td>0.15</td>\n",
       "      <td>0.16</td>\n",
       "      <td>0.67</td>\n",
       "      <td>0.44</td>\n",
       "      <td>0.23</td>\n",
       "      <td>0.46</td>\n",
       "    </tr>\n",
       "    <tr>\n",
       "      <th>3</th>\n",
       "      <td>DeMarcus Cousins</td>\n",
       "      <td>MIL</td>\n",
       "      <td>C</td>\n",
       "      <td>ACTIVE</td>\n",
       "      <td>False</td>\n",
       "      <td>17</td>\n",
       "      <td>5</td>\n",
       "      <td>286</td>\n",
       "      <td>16</td>\n",
       "      <td>438</td>\n",
       "      <td>25</td>\n",
       "      <td>8</td>\n",
       "      <td>3</td>\n",
       "      <td>157</td>\n",
       "      <td>19</td>\n",
       "      <td>262</td>\n",
       "      <td>32</td>\n",
       "      <td>0</td>\n",
       "      <td>0</td>\n",
       "      <td>0</td>\n",
       "      <td>0</td>\n",
       "      <td>0</td>\n",
       "      <td>0</td>\n",
       "      <td>0</td>\n",
       "      <td>0</td>\n",
       "      <td>0</td>\n",
       "      <td>0</td>\n",
       "      <td>0</td>\n",
       "      <td>0</td>\n",
       "      <td>0.40</td>\n",
       "      <td>0.50</td>\n",
       "      <td>0.00</td>\n",
       "      <td>0.0</td>\n",
       "      <td>0.16</td>\n",
       "      <td>0.27</td>\n",
       "      <td>0.0</td>\n",
       "      <td>0.0</td>\n",
       "      <td>0.31</td>\n",
       "      <td>0.46</td>\n",
       "      <td>0.00</td>\n",
       "      <td>0.00</td>\n",
       "      <td>0.44</td>\n",
       "      <td>0.53</td>\n",
       "      <td>0.00</td>\n",
       "      <td>0.00</td>\n",
       "      <td>0.62</td>\n",
       "      <td>0.86</td>\n",
       "      <td>0.00</td>\n",
       "      <td>0.00</td>\n",
       "      <td>0.93</td>\n",
       "      <td>1.00</td>\n",
       "      <td>0.00</td>\n",
       "      <td>0.00</td>\n",
       "    </tr>\n",
       "    <tr>\n",
       "      <th>4</th>\n",
       "      <td>Jeremy Lamb</td>\n",
       "      <td>IND</td>\n",
       "      <td>SG</td>\n",
       "      <td>ACTIVE</td>\n",
       "      <td>False</td>\n",
       "      <td>31</td>\n",
       "      <td>0</td>\n",
       "      <td>461</td>\n",
       "      <td>14</td>\n",
       "      <td>493</td>\n",
       "      <td>15</td>\n",
       "      <td>6</td>\n",
       "      <td>0</td>\n",
       "      <td>111</td>\n",
       "      <td>18</td>\n",
       "      <td>103</td>\n",
       "      <td>17</td>\n",
       "      <td>5</td>\n",
       "      <td>0</td>\n",
       "      <td>88</td>\n",
       "      <td>17</td>\n",
       "      <td>62</td>\n",
       "      <td>12</td>\n",
       "      <td>2</td>\n",
       "      <td>0</td>\n",
       "      <td>44</td>\n",
       "      <td>22</td>\n",
       "      <td>33</td>\n",
       "      <td>16</td>\n",
       "      <td>0.72</td>\n",
       "      <td>0.38</td>\n",
       "      <td>0.62</td>\n",
       "      <td>0.4</td>\n",
       "      <td>0.00</td>\n",
       "      <td>0.00</td>\n",
       "      <td>0.0</td>\n",
       "      <td>0.0</td>\n",
       "      <td>0.50</td>\n",
       "      <td>0.32</td>\n",
       "      <td>0.47</td>\n",
       "      <td>0.42</td>\n",
       "      <td>0.39</td>\n",
       "      <td>0.50</td>\n",
       "      <td>0.41</td>\n",
       "      <td>0.81</td>\n",
       "      <td>0.70</td>\n",
       "      <td>0.34</td>\n",
       "      <td>0.35</td>\n",
       "      <td>0.34</td>\n",
       "      <td>0.56</td>\n",
       "      <td>0.53</td>\n",
       "      <td>0.21</td>\n",
       "      <td>0.46</td>\n",
       "    </tr>\n",
       "  </tbody>\n",
       "</table>\n",
       "</div>"
      ],
      "text/plain": [
       "               name team position injury_status  injured  total_gp  total_gs  \\\n",
       "0    Andre Iguodala  GSW       SF           OUT     True        25         0   \n",
       "1  Lance Stephenson  IND       SF        ACTIVE    False        16         0   \n",
       "2    DeAndre Jordan  LAL        C        ACTIVE    False        29        18   \n",
       "3  DeMarcus Cousins  MIL        C        ACTIVE    False        17         5   \n",
       "4       Jeremy Lamb  IND       SG        ACTIVE    False        31         0   \n",
       "\n",
       "   total_min  total_mpg  total_fpts  total_favg  l30_gp  l30_gs  l30_min  \\\n",
       "0        511         20         481          19       9       0      189   \n",
       "1        261         16         271          16      16       0      261   \n",
       "2        379         13         545          18       3       0       27   \n",
       "3        286         16         438          25       8       3      157   \n",
       "4        461         14         493          15       6       0      111   \n",
       "\n",
       "   l30_mpg  l30_fpts  l30_favg  l15_gp  l15_gs  l15_min  l15_mpg  l15_fpts  \\\n",
       "0       21       163        18       7       0      141       20       109   \n",
       "1       16       271        16       7       0      129       18       138   \n",
       "2        9        43        14       2       0       20       10        26   \n",
       "3       19       262        32       0       0        0        0         0   \n",
       "4       18       103        17       5       0       88       17        62   \n",
       "\n",
       "   l15_favg  l7_gp  l7_gs  l7_min  l7_mpg  l7_fpts  l7_favg  total_gp_ratio  \\\n",
       "0        15      3      0      62      20       44       14            0.58   \n",
       "1        19      4      0      48      12       25        6            0.37   \n",
       "2        13      1      0      12      12       16       16            0.67   \n",
       "3         0      0      0       0       0        0        0            0.40   \n",
       "4        12      2      0      44      22       33       16            0.72   \n",
       "\n",
       "   l30_gp_ratio  l15_gp_ratio  l7_gp_ratio  total_gs_ratio  l30_gs_ratio  \\\n",
       "0          0.56          0.88          0.6            0.00          0.00   \n",
       "1          1.00          0.88          0.8            0.00          0.00   \n",
       "2          0.19          0.25          0.2            0.56          0.00   \n",
       "3          0.50          0.00          0.0            0.16          0.27   \n",
       "4          0.38          0.62          0.4            0.00          0.00   \n",
       "\n",
       "   l15_gs_ratio  l7_gs_ratio  total_min_ratio  l30_min_ratio  l15_min_ratio  \\\n",
       "0           0.0          0.0             0.55           0.55           0.76   \n",
       "1           0.0          0.0             0.28           0.76           0.69   \n",
       "2           0.0          0.0             0.41           0.08           0.11   \n",
       "3           0.0          0.0             0.31           0.46           0.00   \n",
       "4           0.0          0.0             0.50           0.32           0.47   \n",
       "\n",
       "   l7_min_ratio  total_mpg_ratio  l30_mpg_ratio  l15_mpg_ratio  l7_mpg_ratio  \\\n",
       "0          0.59             0.56           0.58           0.49          0.74   \n",
       "1          0.46             0.44           0.44           0.44          0.44   \n",
       "2          0.11             0.36           0.25           0.24          0.44   \n",
       "3          0.00             0.44           0.53           0.00          0.00   \n",
       "4          0.42             0.39           0.50           0.41          0.81   \n",
       "\n",
       "   total_fpts_ratio  l30_fpts_ratio  l15_fpts_ratio  l7_fpts_ratio  \\\n",
       "0              0.68            0.54            0.62           0.45   \n",
       "1              0.38            0.89            0.78           0.26   \n",
       "2              0.77            0.14            0.15           0.16   \n",
       "3              0.62            0.86            0.00           0.00   \n",
       "4              0.70            0.34            0.35           0.34   \n",
       "\n",
       "   total_favg_ratio  l30_favg_ratio  l15_favg_ratio  l7_favg_ratio  \n",
       "0              0.70            0.56            0.27           0.40  \n",
       "1              0.59            0.50            0.34           0.17  \n",
       "2              0.67            0.44            0.23           0.46  \n",
       "3              0.93            1.00            0.00           0.00  \n",
       "4              0.56            0.53            0.21           0.46  "
      ]
     },
     "execution_count": 13,
     "metadata": {},
     "output_type": "execute_result"
    }
   ],
   "source": [
    "fa.head()"
   ]
  },
  {
   "cell_type": "code",
   "execution_count": 256,
   "metadata": {},
   "outputs": [
    {
     "data": {
      "text/html": [
       "<div>\n",
       "<style scoped>\n",
       "    .dataframe tbody tr th:only-of-type {\n",
       "        vertical-align: middle;\n",
       "    }\n",
       "\n",
       "    .dataframe tbody tr th {\n",
       "        vertical-align: top;\n",
       "    }\n",
       "\n",
       "    .dataframe thead th {\n",
       "        text-align: right;\n",
       "    }\n",
       "</style>\n",
       "<table border=\"1\" class=\"dataframe\">\n",
       "  <thead>\n",
       "    <tr style=\"text-align: right;\">\n",
       "      <th></th>\n",
       "      <th>name</th>\n",
       "      <th>team</th>\n",
       "      <th>position</th>\n",
       "      <th>injury_status</th>\n",
       "      <th>injured</th>\n",
       "      <th>total_gp</th>\n",
       "      <th>total_gs</th>\n",
       "      <th>total_min</th>\n",
       "      <th>total_mpg</th>\n",
       "      <th>total_fpts</th>\n",
       "      <th>total_favg</th>\n",
       "      <th>l30_gp</th>\n",
       "      <th>l30_gs</th>\n",
       "      <th>l30_min</th>\n",
       "      <th>l30_mpg</th>\n",
       "      <th>l30_fpts</th>\n",
       "      <th>l30_favg</th>\n",
       "      <th>l15_gp</th>\n",
       "      <th>l15_gs</th>\n",
       "      <th>l15_min</th>\n",
       "      <th>l15_mpg</th>\n",
       "      <th>l15_fpts</th>\n",
       "      <th>l15_favg</th>\n",
       "      <th>l7_gp</th>\n",
       "      <th>l7_gs</th>\n",
       "      <th>l7_min</th>\n",
       "      <th>l7_mpg</th>\n",
       "      <th>l7_fpts</th>\n",
       "      <th>l7_favg</th>\n",
       "      <th>total_gp_ratio</th>\n",
       "      <th>l30_gp_ratio</th>\n",
       "      <th>l15_gp_ratio</th>\n",
       "      <th>l7_gp_ratio</th>\n",
       "      <th>total_gs_ratio</th>\n",
       "      <th>l30_gs_ratio</th>\n",
       "      <th>l15_gs_ratio</th>\n",
       "      <th>l7_gs_ratio</th>\n",
       "      <th>total_min_ratio</th>\n",
       "      <th>l30_min_ratio</th>\n",
       "      <th>l15_min_ratio</th>\n",
       "      <th>l7_min_ratio</th>\n",
       "      <th>total_mpg_ratio</th>\n",
       "      <th>l30_mpg_ratio</th>\n",
       "      <th>l15_mpg_ratio</th>\n",
       "      <th>l7_mpg_ratio</th>\n",
       "      <th>total_fpts_ratio</th>\n",
       "      <th>l30_fpts_ratio</th>\n",
       "      <th>l15_fpts_ratio</th>\n",
       "      <th>l7_fpts_ratio</th>\n",
       "      <th>total_favg_ratio</th>\n",
       "      <th>l30_favg_ratio</th>\n",
       "      <th>l15_favg_ratio</th>\n",
       "      <th>l7_favg_ratio</th>\n",
       "    </tr>\n",
       "  </thead>\n",
       "  <tbody>\n",
       "    <tr>\n",
       "      <th>4</th>\n",
       "      <td>Nemanja Bjelica</td>\n",
       "      <td>GSW</td>\n",
       "      <td>PF</td>\n",
       "      <td>ACTIVE</td>\n",
       "      <td>False</td>\n",
       "      <td>45</td>\n",
       "      <td>0</td>\n",
       "      <td>684</td>\n",
       "      <td>15</td>\n",
       "      <td>857</td>\n",
       "      <td>19</td>\n",
       "      <td>14</td>\n",
       "      <td>0</td>\n",
       "      <td>229</td>\n",
       "      <td>16</td>\n",
       "      <td>265</td>\n",
       "      <td>18</td>\n",
       "      <td>8</td>\n",
       "      <td>0</td>\n",
       "      <td>132</td>\n",
       "      <td>16</td>\n",
       "      <td>153</td>\n",
       "      <td>19</td>\n",
       "      <td>4</td>\n",
       "      <td>0</td>\n",
       "      <td>71</td>\n",
       "      <td>17</td>\n",
       "      <td>101</td>\n",
       "      <td>25</td>\n",
       "      <td>1.00</td>\n",
       "      <td>0.88</td>\n",
       "      <td>1.00</td>\n",
       "      <td>0.8</td>\n",
       "      <td>0.00</td>\n",
       "      <td>0.00</td>\n",
       "      <td>0.00</td>\n",
       "      <td>0.00</td>\n",
       "      <td>0.74</td>\n",
       "      <td>0.67</td>\n",
       "      <td>0.69</td>\n",
       "      <td>0.68</td>\n",
       "      <td>0.42</td>\n",
       "      <td>0.44</td>\n",
       "      <td>0.39</td>\n",
       "      <td>0.63</td>\n",
       "      <td>1.00</td>\n",
       "      <td>0.74</td>\n",
       "      <td>0.84</td>\n",
       "      <td>1.00</td>\n",
       "      <td>0.70</td>\n",
       "      <td>0.56</td>\n",
       "      <td>0.34</td>\n",
       "      <td>0.71</td>\n",
       "    </tr>\n",
       "    <tr>\n",
       "      <th>11</th>\n",
       "      <td>Grant Williams</td>\n",
       "      <td>BOS</td>\n",
       "      <td>PF</td>\n",
       "      <td>ACTIVE</td>\n",
       "      <td>False</td>\n",
       "      <td>41</td>\n",
       "      <td>13</td>\n",
       "      <td>928</td>\n",
       "      <td>22</td>\n",
       "      <td>695</td>\n",
       "      <td>16</td>\n",
       "      <td>13</td>\n",
       "      <td>4</td>\n",
       "      <td>309</td>\n",
       "      <td>23</td>\n",
       "      <td>190</td>\n",
       "      <td>14</td>\n",
       "      <td>8</td>\n",
       "      <td>2</td>\n",
       "      <td>164</td>\n",
       "      <td>20</td>\n",
       "      <td>90</td>\n",
       "      <td>11</td>\n",
       "      <td>4</td>\n",
       "      <td>2</td>\n",
       "      <td>78</td>\n",
       "      <td>19</td>\n",
       "      <td>49</td>\n",
       "      <td>12</td>\n",
       "      <td>0.91</td>\n",
       "      <td>0.81</td>\n",
       "      <td>1.00</td>\n",
       "      <td>0.8</td>\n",
       "      <td>0.41</td>\n",
       "      <td>0.36</td>\n",
       "      <td>0.33</td>\n",
       "      <td>0.67</td>\n",
       "      <td>1.00</td>\n",
       "      <td>0.90</td>\n",
       "      <td>0.85</td>\n",
       "      <td>0.74</td>\n",
       "      <td>0.61</td>\n",
       "      <td>0.64</td>\n",
       "      <td>0.49</td>\n",
       "      <td>0.70</td>\n",
       "      <td>0.81</td>\n",
       "      <td>0.53</td>\n",
       "      <td>0.49</td>\n",
       "      <td>0.49</td>\n",
       "      <td>0.59</td>\n",
       "      <td>0.44</td>\n",
       "      <td>0.20</td>\n",
       "      <td>0.34</td>\n",
       "    </tr>\n",
       "    <tr>\n",
       "      <th>16</th>\n",
       "      <td>Juan Toscano-Anderson</td>\n",
       "      <td>GSW</td>\n",
       "      <td>PF</td>\n",
       "      <td>ACTIVE</td>\n",
       "      <td>False</td>\n",
       "      <td>43</td>\n",
       "      <td>4</td>\n",
       "      <td>689</td>\n",
       "      <td>16</td>\n",
       "      <td>656</td>\n",
       "      <td>15</td>\n",
       "      <td>13</td>\n",
       "      <td>2</td>\n",
       "      <td>204</td>\n",
       "      <td>15</td>\n",
       "      <td>192</td>\n",
       "      <td>14</td>\n",
       "      <td>7</td>\n",
       "      <td>1</td>\n",
       "      <td>96</td>\n",
       "      <td>13</td>\n",
       "      <td>91</td>\n",
       "      <td>13</td>\n",
       "      <td>4</td>\n",
       "      <td>0</td>\n",
       "      <td>52</td>\n",
       "      <td>13</td>\n",
       "      <td>56</td>\n",
       "      <td>14</td>\n",
       "      <td>0.96</td>\n",
       "      <td>0.81</td>\n",
       "      <td>0.88</td>\n",
       "      <td>0.8</td>\n",
       "      <td>0.12</td>\n",
       "      <td>0.18</td>\n",
       "      <td>0.17</td>\n",
       "      <td>0.00</td>\n",
       "      <td>0.74</td>\n",
       "      <td>0.60</td>\n",
       "      <td>0.50</td>\n",
       "      <td>0.50</td>\n",
       "      <td>0.44</td>\n",
       "      <td>0.42</td>\n",
       "      <td>0.32</td>\n",
       "      <td>0.48</td>\n",
       "      <td>0.77</td>\n",
       "      <td>0.53</td>\n",
       "      <td>0.50</td>\n",
       "      <td>0.55</td>\n",
       "      <td>0.56</td>\n",
       "      <td>0.44</td>\n",
       "      <td>0.23</td>\n",
       "      <td>0.40</td>\n",
       "    </tr>\n",
       "    <tr>\n",
       "      <th>17</th>\n",
       "      <td>Oshae Brissett</td>\n",
       "      <td>IND</td>\n",
       "      <td>PF</td>\n",
       "      <td>ACTIVE</td>\n",
       "      <td>False</td>\n",
       "      <td>35</td>\n",
       "      <td>1</td>\n",
       "      <td>652</td>\n",
       "      <td>18</td>\n",
       "      <td>626</td>\n",
       "      <td>17</td>\n",
       "      <td>14</td>\n",
       "      <td>1</td>\n",
       "      <td>312</td>\n",
       "      <td>22</td>\n",
       "      <td>303</td>\n",
       "      <td>21</td>\n",
       "      <td>7</td>\n",
       "      <td>0</td>\n",
       "      <td>154</td>\n",
       "      <td>22</td>\n",
       "      <td>135</td>\n",
       "      <td>19</td>\n",
       "      <td>4</td>\n",
       "      <td>0</td>\n",
       "      <td>76</td>\n",
       "      <td>19</td>\n",
       "      <td>65</td>\n",
       "      <td>16</td>\n",
       "      <td>0.78</td>\n",
       "      <td>0.88</td>\n",
       "      <td>0.88</td>\n",
       "      <td>0.8</td>\n",
       "      <td>0.03</td>\n",
       "      <td>0.09</td>\n",
       "      <td>0.00</td>\n",
       "      <td>0.00</td>\n",
       "      <td>0.70</td>\n",
       "      <td>0.91</td>\n",
       "      <td>0.80</td>\n",
       "      <td>0.72</td>\n",
       "      <td>0.50</td>\n",
       "      <td>0.61</td>\n",
       "      <td>0.54</td>\n",
       "      <td>0.70</td>\n",
       "      <td>0.73</td>\n",
       "      <td>0.84</td>\n",
       "      <td>0.74</td>\n",
       "      <td>0.64</td>\n",
       "      <td>0.63</td>\n",
       "      <td>0.66</td>\n",
       "      <td>0.34</td>\n",
       "      <td>0.46</td>\n",
       "    </tr>\n",
       "    <tr>\n",
       "      <th>33</th>\n",
       "      <td>Garrett Temple</td>\n",
       "      <td>NOP</td>\n",
       "      <td>SG</td>\n",
       "      <td>ACTIVE</td>\n",
       "      <td>False</td>\n",
       "      <td>43</td>\n",
       "      <td>12</td>\n",
       "      <td>834</td>\n",
       "      <td>19</td>\n",
       "      <td>649</td>\n",
       "      <td>15</td>\n",
       "      <td>13</td>\n",
       "      <td>3</td>\n",
       "      <td>291</td>\n",
       "      <td>22</td>\n",
       "      <td>214</td>\n",
       "      <td>16</td>\n",
       "      <td>7</td>\n",
       "      <td>1</td>\n",
       "      <td>133</td>\n",
       "      <td>19</td>\n",
       "      <td>66</td>\n",
       "      <td>9</td>\n",
       "      <td>3</td>\n",
       "      <td>0</td>\n",
       "      <td>50</td>\n",
       "      <td>16</td>\n",
       "      <td>12</td>\n",
       "      <td>4</td>\n",
       "      <td>0.96</td>\n",
       "      <td>0.81</td>\n",
       "      <td>0.88</td>\n",
       "      <td>0.6</td>\n",
       "      <td>0.38</td>\n",
       "      <td>0.27</td>\n",
       "      <td>0.17</td>\n",
       "      <td>0.00</td>\n",
       "      <td>0.90</td>\n",
       "      <td>0.85</td>\n",
       "      <td>0.69</td>\n",
       "      <td>0.48</td>\n",
       "      <td>0.53</td>\n",
       "      <td>0.61</td>\n",
       "      <td>0.46</td>\n",
       "      <td>0.59</td>\n",
       "      <td>0.76</td>\n",
       "      <td>0.59</td>\n",
       "      <td>0.36</td>\n",
       "      <td>0.12</td>\n",
       "      <td>0.56</td>\n",
       "      <td>0.50</td>\n",
       "      <td>0.16</td>\n",
       "      <td>0.11</td>\n",
       "    </tr>\n",
       "    <tr>\n",
       "      <th>37</th>\n",
       "      <td>Taj Gibson</td>\n",
       "      <td>NYK</td>\n",
       "      <td>PF</td>\n",
       "      <td>ACTIVE</td>\n",
       "      <td>False</td>\n",
       "      <td>29</td>\n",
       "      <td>3</td>\n",
       "      <td>556</td>\n",
       "      <td>19</td>\n",
       "      <td>454</td>\n",
       "      <td>15</td>\n",
       "      <td>14</td>\n",
       "      <td>2</td>\n",
       "      <td>276</td>\n",
       "      <td>19</td>\n",
       "      <td>234</td>\n",
       "      <td>16</td>\n",
       "      <td>7</td>\n",
       "      <td>0</td>\n",
       "      <td>131</td>\n",
       "      <td>18</td>\n",
       "      <td>103</td>\n",
       "      <td>14</td>\n",
       "      <td>4</td>\n",
       "      <td>0</td>\n",
       "      <td>79</td>\n",
       "      <td>19</td>\n",
       "      <td>57</td>\n",
       "      <td>14</td>\n",
       "      <td>0.64</td>\n",
       "      <td>0.88</td>\n",
       "      <td>0.88</td>\n",
       "      <td>0.8</td>\n",
       "      <td>0.09</td>\n",
       "      <td>0.18</td>\n",
       "      <td>0.00</td>\n",
       "      <td>0.00</td>\n",
       "      <td>0.60</td>\n",
       "      <td>0.81</td>\n",
       "      <td>0.68</td>\n",
       "      <td>0.75</td>\n",
       "      <td>0.53</td>\n",
       "      <td>0.53</td>\n",
       "      <td>0.44</td>\n",
       "      <td>0.70</td>\n",
       "      <td>0.53</td>\n",
       "      <td>0.65</td>\n",
       "      <td>0.57</td>\n",
       "      <td>0.56</td>\n",
       "      <td>0.56</td>\n",
       "      <td>0.50</td>\n",
       "      <td>0.25</td>\n",
       "      <td>0.40</td>\n",
       "    </tr>\n",
       "    <tr>\n",
       "      <th>75</th>\n",
       "      <td>Keita Bates-Diop</td>\n",
       "      <td>SAS</td>\n",
       "      <td>SF</td>\n",
       "      <td>ACTIVE</td>\n",
       "      <td>False</td>\n",
       "      <td>37</td>\n",
       "      <td>12</td>\n",
       "      <td>642</td>\n",
       "      <td>17</td>\n",
       "      <td>662</td>\n",
       "      <td>17</td>\n",
       "      <td>14</td>\n",
       "      <td>7</td>\n",
       "      <td>324</td>\n",
       "      <td>23</td>\n",
       "      <td>360</td>\n",
       "      <td>25</td>\n",
       "      <td>8</td>\n",
       "      <td>4</td>\n",
       "      <td>192</td>\n",
       "      <td>24</td>\n",
       "      <td>182</td>\n",
       "      <td>22</td>\n",
       "      <td>4</td>\n",
       "      <td>0</td>\n",
       "      <td>78</td>\n",
       "      <td>19</td>\n",
       "      <td>86</td>\n",
       "      <td>21</td>\n",
       "      <td>0.82</td>\n",
       "      <td>0.88</td>\n",
       "      <td>1.00</td>\n",
       "      <td>0.8</td>\n",
       "      <td>0.38</td>\n",
       "      <td>0.64</td>\n",
       "      <td>0.67</td>\n",
       "      <td>0.00</td>\n",
       "      <td>0.69</td>\n",
       "      <td>0.95</td>\n",
       "      <td>1.00</td>\n",
       "      <td>0.74</td>\n",
       "      <td>0.47</td>\n",
       "      <td>0.64</td>\n",
       "      <td>0.59</td>\n",
       "      <td>0.70</td>\n",
       "      <td>0.77</td>\n",
       "      <td>1.00</td>\n",
       "      <td>1.00</td>\n",
       "      <td>0.85</td>\n",
       "      <td>0.63</td>\n",
       "      <td>0.78</td>\n",
       "      <td>0.39</td>\n",
       "      <td>0.60</td>\n",
       "    </tr>\n",
       "    <tr>\n",
       "      <th>82</th>\n",
       "      <td>Ty Jerome</td>\n",
       "      <td>OKC</td>\n",
       "      <td>PG</td>\n",
       "      <td>ACTIVE</td>\n",
       "      <td>False</td>\n",
       "      <td>35</td>\n",
       "      <td>3</td>\n",
       "      <td>542</td>\n",
       "      <td>15</td>\n",
       "      <td>523</td>\n",
       "      <td>14</td>\n",
       "      <td>13</td>\n",
       "      <td>2</td>\n",
       "      <td>241</td>\n",
       "      <td>18</td>\n",
       "      <td>247</td>\n",
       "      <td>19</td>\n",
       "      <td>6</td>\n",
       "      <td>0</td>\n",
       "      <td>103</td>\n",
       "      <td>17</td>\n",
       "      <td>93</td>\n",
       "      <td>15</td>\n",
       "      <td>3</td>\n",
       "      <td>0</td>\n",
       "      <td>58</td>\n",
       "      <td>19</td>\n",
       "      <td>46</td>\n",
       "      <td>15</td>\n",
       "      <td>0.78</td>\n",
       "      <td>0.81</td>\n",
       "      <td>0.75</td>\n",
       "      <td>0.6</td>\n",
       "      <td>0.09</td>\n",
       "      <td>0.18</td>\n",
       "      <td>0.00</td>\n",
       "      <td>0.00</td>\n",
       "      <td>0.58</td>\n",
       "      <td>0.70</td>\n",
       "      <td>0.54</td>\n",
       "      <td>0.55</td>\n",
       "      <td>0.42</td>\n",
       "      <td>0.50</td>\n",
       "      <td>0.41</td>\n",
       "      <td>0.70</td>\n",
       "      <td>0.61</td>\n",
       "      <td>0.69</td>\n",
       "      <td>0.51</td>\n",
       "      <td>0.46</td>\n",
       "      <td>0.52</td>\n",
       "      <td>0.59</td>\n",
       "      <td>0.27</td>\n",
       "      <td>0.43</td>\n",
       "    </tr>\n",
       "  </tbody>\n",
       "</table>\n",
       "</div>"
      ],
      "text/plain": [
       "                     name team position injury_status  injured  total_gp  \\\n",
       "4         Nemanja Bjelica  GSW       PF        ACTIVE    False        45   \n",
       "11         Grant Williams  BOS       PF        ACTIVE    False        41   \n",
       "16  Juan Toscano-Anderson  GSW       PF        ACTIVE    False        43   \n",
       "17         Oshae Brissett  IND       PF        ACTIVE    False        35   \n",
       "33         Garrett Temple  NOP       SG        ACTIVE    False        43   \n",
       "37             Taj Gibson  NYK       PF        ACTIVE    False        29   \n",
       "75       Keita Bates-Diop  SAS       SF        ACTIVE    False        37   \n",
       "82              Ty Jerome  OKC       PG        ACTIVE    False        35   \n",
       "\n",
       "    total_gs  total_min  total_mpg  total_fpts  total_favg  l30_gp  l30_gs  \\\n",
       "4          0        684         15         857          19      14       0   \n",
       "11        13        928         22         695          16      13       4   \n",
       "16         4        689         16         656          15      13       2   \n",
       "17         1        652         18         626          17      14       1   \n",
       "33        12        834         19         649          15      13       3   \n",
       "37         3        556         19         454          15      14       2   \n",
       "75        12        642         17         662          17      14       7   \n",
       "82         3        542         15         523          14      13       2   \n",
       "\n",
       "    l30_min  l30_mpg  l30_fpts  l30_favg  l15_gp  l15_gs  l15_min  l15_mpg  \\\n",
       "4       229       16       265        18       8       0      132       16   \n",
       "11      309       23       190        14       8       2      164       20   \n",
       "16      204       15       192        14       7       1       96       13   \n",
       "17      312       22       303        21       7       0      154       22   \n",
       "33      291       22       214        16       7       1      133       19   \n",
       "37      276       19       234        16       7       0      131       18   \n",
       "75      324       23       360        25       8       4      192       24   \n",
       "82      241       18       247        19       6       0      103       17   \n",
       "\n",
       "    l15_fpts  l15_favg  l7_gp  l7_gs  l7_min  l7_mpg  l7_fpts  l7_favg  \\\n",
       "4        153        19      4      0      71      17      101       25   \n",
       "11        90        11      4      2      78      19       49       12   \n",
       "16        91        13      4      0      52      13       56       14   \n",
       "17       135        19      4      0      76      19       65       16   \n",
       "33        66         9      3      0      50      16       12        4   \n",
       "37       103        14      4      0      79      19       57       14   \n",
       "75       182        22      4      0      78      19       86       21   \n",
       "82        93        15      3      0      58      19       46       15   \n",
       "\n",
       "    total_gp_ratio  l30_gp_ratio  l15_gp_ratio  l7_gp_ratio  total_gs_ratio  \\\n",
       "4             1.00          0.88          1.00          0.8            0.00   \n",
       "11            0.91          0.81          1.00          0.8            0.41   \n",
       "16            0.96          0.81          0.88          0.8            0.12   \n",
       "17            0.78          0.88          0.88          0.8            0.03   \n",
       "33            0.96          0.81          0.88          0.6            0.38   \n",
       "37            0.64          0.88          0.88          0.8            0.09   \n",
       "75            0.82          0.88          1.00          0.8            0.38   \n",
       "82            0.78          0.81          0.75          0.6            0.09   \n",
       "\n",
       "    l30_gs_ratio  l15_gs_ratio  l7_gs_ratio  total_min_ratio  l30_min_ratio  \\\n",
       "4           0.00          0.00         0.00             0.74           0.67   \n",
       "11          0.36          0.33         0.67             1.00           0.90   \n",
       "16          0.18          0.17         0.00             0.74           0.60   \n",
       "17          0.09          0.00         0.00             0.70           0.91   \n",
       "33          0.27          0.17         0.00             0.90           0.85   \n",
       "37          0.18          0.00         0.00             0.60           0.81   \n",
       "75          0.64          0.67         0.00             0.69           0.95   \n",
       "82          0.18          0.00         0.00             0.58           0.70   \n",
       "\n",
       "    l15_min_ratio  l7_min_ratio  total_mpg_ratio  l30_mpg_ratio  \\\n",
       "4            0.69          0.68             0.42           0.44   \n",
       "11           0.85          0.74             0.61           0.64   \n",
       "16           0.50          0.50             0.44           0.42   \n",
       "17           0.80          0.72             0.50           0.61   \n",
       "33           0.69          0.48             0.53           0.61   \n",
       "37           0.68          0.75             0.53           0.53   \n",
       "75           1.00          0.74             0.47           0.64   \n",
       "82           0.54          0.55             0.42           0.50   \n",
       "\n",
       "    l15_mpg_ratio  l7_mpg_ratio  total_fpts_ratio  l30_fpts_ratio  \\\n",
       "4            0.39          0.63              1.00            0.74   \n",
       "11           0.49          0.70              0.81            0.53   \n",
       "16           0.32          0.48              0.77            0.53   \n",
       "17           0.54          0.70              0.73            0.84   \n",
       "33           0.46          0.59              0.76            0.59   \n",
       "37           0.44          0.70              0.53            0.65   \n",
       "75           0.59          0.70              0.77            1.00   \n",
       "82           0.41          0.70              0.61            0.69   \n",
       "\n",
       "    l15_fpts_ratio  l7_fpts_ratio  total_favg_ratio  l30_favg_ratio  \\\n",
       "4             0.84           1.00              0.70            0.56   \n",
       "11            0.49           0.49              0.59            0.44   \n",
       "16            0.50           0.55              0.56            0.44   \n",
       "17            0.74           0.64              0.63            0.66   \n",
       "33            0.36           0.12              0.56            0.50   \n",
       "37            0.57           0.56              0.56            0.50   \n",
       "75            1.00           0.85              0.63            0.78   \n",
       "82            0.51           0.46              0.52            0.59   \n",
       "\n",
       "    l15_favg_ratio  l7_favg_ratio  \n",
       "4             0.34           0.71  \n",
       "11            0.20           0.34  \n",
       "16            0.23           0.40  \n",
       "17            0.34           0.46  \n",
       "33            0.16           0.11  \n",
       "37            0.25           0.40  \n",
       "75            0.39           0.60  \n",
       "82            0.27           0.43  "
      ]
     },
     "execution_count": 256,
     "metadata": {},
     "output_type": "execute_result"
    }
   ],
   "source": [
    "# find players who:\n",
    "    # have been played in a game a lot recently and a reasonable amount all season\n",
    "    # have scored above average all season and recently\n",
    "fa.loc[(fa.l30_gp_ratio >= .8) & (fa.total_gp_ratio >= 0.6) & (fa.total_fpts_ratio >= 0.5) & (fa.total_favg_ratio >= 0.5)]"
   ]
  },
  {
   "cell_type": "code",
   "execution_count": null,
   "metadata": {},
   "outputs": [],
   "source": []
  },
  {
   "cell_type": "code",
   "execution_count": null,
   "metadata": {},
   "outputs": [],
   "source": []
  },
  {
   "cell_type": "code",
   "execution_count": 71,
   "metadata": {},
   "outputs": [
    {
     "data": {
      "text/plain": [
       "{'last_15_2022': {'applied_total': 138.25,\n",
       "  'applied_avg': 19.75,\n",
       "  'avg': {'PTS': 6.714285714285714,\n",
       "   'BLK': 0.0,\n",
       "   'STL': 1.0,\n",
       "   'AST': 4.142857142857143,\n",
       "   'OREB': 0.14285714285714285,\n",
       "   'DREB': 2.5714285714285716,\n",
       "   'REB': 2.7142857142857144,\n",
       "   'PF': 2.142857142857143,\n",
       "   'TO': 1.7142857142857142,\n",
       "   'FGM': 2.5714285714285716,\n",
       "   'FGA': 7.285714285714286,\n",
       "   'FTM': 0.8571428571428571,\n",
       "   'FTA': 1.1428571428571428,\n",
       "   '3PTM': 0.7142857142857143,\n",
       "   '3PTA': 2.7142857142857144,\n",
       "   'FG%': 0.35294118,\n",
       "   'FT%': 0.75,\n",
       "   '3PT%': 0.26315789,\n",
       "   'MPG': 18.42857143,\n",
       "   'MIN': 18.428571428571427,\n",
       "   'GS': 0.0,\n",
       "   'GP': 7.0},\n",
       "  'total': {'PTS': 47.0,\n",
       "   'BLK': 0.0,\n",
       "   'STL': 7.0,\n",
       "   'AST': 29.0,\n",
       "   'OREB': 1.0,\n",
       "   'DREB': 18.0,\n",
       "   'REB': 19.0,\n",
       "   'PF': 15.0,\n",
       "   'TO': 12.0,\n",
       "   'FGM': 18.0,\n",
       "   'FGA': 51.0,\n",
       "   'FTM': 6.0,\n",
       "   'FTA': 8.0,\n",
       "   '3PTM': 5.0,\n",
       "   '3PTA': 19.0,\n",
       "   'FG%': 0.35294118,\n",
       "   'FT%': 0.75,\n",
       "   '3PT%': 0.26315789,\n",
       "   'MPG': 18.42857143,\n",
       "   'MIN': 129.0,\n",
       "   'GS': 0.0,\n",
       "   'GP': 7.0}},\n",
       " 'last_7_2022': {'applied_total': 25.25,\n",
       "  'applied_avg': 6.31,\n",
       "  'avg': {'PTS': 2.75,\n",
       "   'BLK': 0.0,\n",
       "   'STL': 0.25,\n",
       "   'AST': 2.0,\n",
       "   'OREB': 0.0,\n",
       "   'DREB': 1.0,\n",
       "   'REB': 1.0,\n",
       "   'PF': 2.0,\n",
       "   'TO': 1.5,\n",
       "   'FGM': 0.75,\n",
       "   'FGA': 3.75,\n",
       "   'FTM': 1.0,\n",
       "   'FTA': 1.0,\n",
       "   '3PTM': 0.25,\n",
       "   '3PTA': 1.5,\n",
       "   'FG%': 0.2,\n",
       "   'FT%': 1.0,\n",
       "   '3PT%': 0.16666667,\n",
       "   'MPG': 12.0,\n",
       "   'MIN': 12.0,\n",
       "   'GS': 0.0,\n",
       "   'GP': 4.0},\n",
       "  'total': {'PTS': 11.0,\n",
       "   'BLK': 0.0,\n",
       "   'STL': 1.0,\n",
       "   'AST': 8.0,\n",
       "   'OREB': 0.0,\n",
       "   'DREB': 4.0,\n",
       "   'REB': 4.0,\n",
       "   'PF': 8.0,\n",
       "   'TO': 6.0,\n",
       "   'FGM': 3.0,\n",
       "   'FGA': 15.0,\n",
       "   'FTM': 4.0,\n",
       "   'FTA': 4.0,\n",
       "   '3PTM': 1.0,\n",
       "   '3PTA': 6.0,\n",
       "   'FG%': 0.2,\n",
       "   'FT%': 1.0,\n",
       "   '3PT%': 0.16666667,\n",
       "   'MPG': 12.0,\n",
       "   'MIN': 48.0,\n",
       "   'GS': 0.0,\n",
       "   'GP': 4.0}},\n",
       " 'total_2021': {'applied_total': 0.0, 'applied_avg': 0.0},\n",
       " 'total_2022': {'applied_total': 271.5,\n",
       "  'applied_avg': 16.97,\n",
       "  'avg': {'PTS': 6.1875,\n",
       "   'BLK': 0.0,\n",
       "   'STL': 0.5,\n",
       "   'AST': 3.125,\n",
       "   'OREB': 0.25,\n",
       "   'DREB': 2.25,\n",
       "   'REB': 2.5,\n",
       "   'PF': 1.9375,\n",
       "   'TO': 1.3125,\n",
       "   'FGM': 2.5,\n",
       "   'FGA': 5.9375,\n",
       "   'FTM': 0.625,\n",
       "   'FTA': 0.8125,\n",
       "   '3PTM': 0.5625,\n",
       "   '3PTA': 2.1875,\n",
       "   'FG%': 0.42105263,\n",
       "   'FT%': 0.76923077,\n",
       "   '3PT%': 0.25714286,\n",
       "   'MPG': 16.3125,\n",
       "   'MIN': 16.3125,\n",
       "   'GS': 0.0,\n",
       "   'GP': 16.0},\n",
       "  'total': {'PTS': 99.0,\n",
       "   'BLK': 0.0,\n",
       "   'STL': 8.0,\n",
       "   'AST': 50.0,\n",
       "   'OREB': 4.0,\n",
       "   'DREB': 36.0,\n",
       "   'REB': 40.0,\n",
       "   'PF': 31.0,\n",
       "   'TO': 21.0,\n",
       "   'FGM': 40.0,\n",
       "   'FGA': 95.0,\n",
       "   'FTM': 10.0,\n",
       "   'FTA': 13.0,\n",
       "   '3PTM': 9.0,\n",
       "   '3PTA': 35.0,\n",
       "   'FG%': 0.42105263,\n",
       "   'FT%': 0.76923077,\n",
       "   '3PT%': 0.25714286,\n",
       "   'MPG': 16.3125,\n",
       "   'MIN': 261.0,\n",
       "   'GS': 0.0,\n",
       "   'GP': 16.0}},\n",
       " 'last_30_2022': {'applied_total': 271.5,\n",
       "  'applied_avg': 16.97,\n",
       "  'avg': {'PTS': 6.1875,\n",
       "   'BLK': 0.0,\n",
       "   'STL': 0.5,\n",
       "   'AST': 3.125,\n",
       "   'OREB': 0.25,\n",
       "   'DREB': 2.25,\n",
       "   'REB': 2.5,\n",
       "   'PF': 1.9375,\n",
       "   'TO': 1.3125,\n",
       "   'FGM': 2.5,\n",
       "   'FGA': 5.9375,\n",
       "   'FTM': 0.625,\n",
       "   'FTA': 0.8125,\n",
       "   '3PTM': 0.5625,\n",
       "   '3PTA': 2.1875,\n",
       "   'FG%': 0.42105263,\n",
       "   'FT%': 0.76923077,\n",
       "   '3PT%': 0.25714286,\n",
       "   'MPG': 16.3125,\n",
       "   'MIN': 16.3125,\n",
       "   'GS': 0.0,\n",
       "   'GP': 16.0},\n",
       "  'total': {'PTS': 99.0,\n",
       "   'BLK': 0.0,\n",
       "   'STL': 8.0,\n",
       "   'AST': 50.0,\n",
       "   'OREB': 4.0,\n",
       "   'DREB': 36.0,\n",
       "   'REB': 40.0,\n",
       "   'PF': 31.0,\n",
       "   'TO': 21.0,\n",
       "   'FGM': 40.0,\n",
       "   'FGA': 95.0,\n",
       "   'FTM': 10.0,\n",
       "   'FTA': 13.0,\n",
       "   '3PTM': 9.0,\n",
       "   '3PTA': 35.0,\n",
       "   'FG%': 0.42105263,\n",
       "   'FT%': 0.76923077,\n",
       "   '3PT%': 0.25714286,\n",
       "   'MPG': 16.3125,\n",
       "   'MIN': 261.0,\n",
       "   'GS': 0.0,\n",
       "   'GP': 16.0}}}"
      ]
     },
     "execution_count": 71,
     "metadata": {},
     "output_type": "execute_result"
    }
   ],
   "source": [
    "# fa.iloc[0]['Stats']"
   ]
  },
  {
   "cell_type": "markdown",
   "metadata": {},
   "source": [
    "## Player Actual Performance vs. Projected Performance"
   ]
  },
  {
   "cell_type": "code",
   "execution_count": 3,
   "metadata": {},
   "outputs": [],
   "source": [
    "rosters = pd.DataFrame()\n",
    "\n",
    "for team in league.teams:\n",
    "    for player in team.roster:\n",
    "        try:\n",
    "            rosters = rosters.append([[\n",
    "                team.team_name\n",
    "                ,player.name\n",
    "                ,player.total_points\n",
    "                ,player.projected_total_points\n",
    "                ,player.avg_points\n",
    "                ,player.projected_avg_points\n",
    "                ,player.stats['total_2022']['total']['GP']\n",
    "                ]])\n",
    "        except:\n",
    "            pass\n",
    "\n",
    "rosters.columns = [\n",
    "    'Team'\n",
    "    ,'Player'\n",
    "    ,'Player Total Points'\n",
    "    ,'Player Proj Total Points'\n",
    "    ,'Player Avg Points'\n",
    "    ,'Player Proj Avg Points'\n",
    "    ,'GP'\n",
    "    ]\n",
    "\n",
    "# filter our players with no projections (rookies, other random cases)\n",
    "rosters = rosters.loc[rosters['Player Proj Total Points']>0.00]\n",
    "\n",
    "# filter our players with less than 10 games played\n",
    "rosters = rosters.loc[rosters['GP']>=10.0]\n",
    "\n",
    "# calculate Actual versus Projected\n",
    "rosters['Player Avg Points Diff'] = rosters['Player Avg Points'] - rosters['Player Proj Avg Points']"
   ]
  },
  {
   "cell_type": "code",
   "execution_count": 15,
   "metadata": {},
   "outputs": [
    {
     "data": {
      "text/html": [
       "<div>\n",
       "<style scoped>\n",
       "    .dataframe tbody tr th:only-of-type {\n",
       "        vertical-align: middle;\n",
       "    }\n",
       "\n",
       "    .dataframe tbody tr th {\n",
       "        vertical-align: top;\n",
       "    }\n",
       "\n",
       "    .dataframe thead th {\n",
       "        text-align: right;\n",
       "    }\n",
       "</style>\n",
       "<table border=\"1\" class=\"dataframe\">\n",
       "  <thead>\n",
       "    <tr style=\"text-align: right;\">\n",
       "      <th></th>\n",
       "      <th>Team</th>\n",
       "      <th>Player</th>\n",
       "      <th>Player Total Points</th>\n",
       "      <th>Player Proj Total Points</th>\n",
       "      <th>Player Avg Points</th>\n",
       "      <th>Player Proj Avg Points</th>\n",
       "      <th>GP</th>\n",
       "      <th>Player Avg Points Diff</th>\n",
       "    </tr>\n",
       "  </thead>\n",
       "  <tbody>\n",
       "    <tr>\n",
       "      <th>0</th>\n",
       "      <td>Orange Julius</td>\n",
       "      <td>Collin Sexton</td>\n",
       "      <td>326.00</td>\n",
       "      <td>3239.25</td>\n",
       "      <td>29.64</td>\n",
       "      <td>42.62</td>\n",
       "      <td>11.0</td>\n",
       "      <td>-12.98</td>\n",
       "    </tr>\n",
       "    <tr>\n",
       "      <th>0</th>\n",
       "      <td>Orange Julius</td>\n",
       "      <td>Terry Rozier</td>\n",
       "      <td>1221.00</td>\n",
       "      <td>2853.75</td>\n",
       "      <td>38.16</td>\n",
       "      <td>37.55</td>\n",
       "      <td>32.0</td>\n",
       "      <td>0.61</td>\n",
       "    </tr>\n",
       "    <tr>\n",
       "      <th>0</th>\n",
       "      <td>Orange Julius</td>\n",
       "      <td>Julius Randle</td>\n",
       "      <td>2048.25</td>\n",
       "      <td>3736.50</td>\n",
       "      <td>52.52</td>\n",
       "      <td>48.53</td>\n",
       "      <td>39.0</td>\n",
       "      <td>3.99</td>\n",
       "    </tr>\n",
       "    <tr>\n",
       "      <th>0</th>\n",
       "      <td>Orange Julius</td>\n",
       "      <td>Bam Adebayo</td>\n",
       "      <td>916.00</td>\n",
       "      <td>3170.75</td>\n",
       "      <td>50.89</td>\n",
       "      <td>41.18</td>\n",
       "      <td>18.0</td>\n",
       "      <td>9.71</td>\n",
       "    </tr>\n",
       "    <tr>\n",
       "      <th>0</th>\n",
       "      <td>Orange Julius</td>\n",
       "      <td>Malcolm Brogdon</td>\n",
       "      <td>1169.50</td>\n",
       "      <td>2772.75</td>\n",
       "      <td>44.98</td>\n",
       "      <td>39.05</td>\n",
       "      <td>26.0</td>\n",
       "      <td>5.93</td>\n",
       "    </tr>\n",
       "    <tr>\n",
       "      <th>0</th>\n",
       "      <td>Orange Julius</td>\n",
       "      <td>Andrew Wiggins</td>\n",
       "      <td>1310.25</td>\n",
       "      <td>2688.00</td>\n",
       "      <td>37.44</td>\n",
       "      <td>35.37</td>\n",
       "      <td>35.0</td>\n",
       "      <td>2.07</td>\n",
       "    </tr>\n",
       "    <tr>\n",
       "      <th>0</th>\n",
       "      <td>Orange Julius</td>\n",
       "      <td>Dejounte Murray</td>\n",
       "      <td>2045.50</td>\n",
       "      <td>3326.00</td>\n",
       "      <td>58.44</td>\n",
       "      <td>43.76</td>\n",
       "      <td>35.0</td>\n",
       "      <td>14.68</td>\n",
       "    </tr>\n",
       "    <tr>\n",
       "      <th>0</th>\n",
       "      <td>Orange Julius</td>\n",
       "      <td>Norman Powell</td>\n",
       "      <td>1128.25</td>\n",
       "      <td>2391.50</td>\n",
       "      <td>33.18</td>\n",
       "      <td>31.47</td>\n",
       "      <td>34.0</td>\n",
       "      <td>1.71</td>\n",
       "    </tr>\n",
       "    <tr>\n",
       "      <th>0</th>\n",
       "      <td>Orange Julius</td>\n",
       "      <td>Kyle Kuzma</td>\n",
       "      <td>1630.75</td>\n",
       "      <td>2260.25</td>\n",
       "      <td>42.91</td>\n",
       "      <td>29.35</td>\n",
       "      <td>38.0</td>\n",
       "      <td>13.56</td>\n",
       "    </tr>\n",
       "    <tr>\n",
       "      <th>0</th>\n",
       "      <td>Orange Julius</td>\n",
       "      <td>Robert Williams III</td>\n",
       "      <td>1267.00</td>\n",
       "      <td>2178.25</td>\n",
       "      <td>39.59</td>\n",
       "      <td>30.25</td>\n",
       "      <td>32.0</td>\n",
       "      <td>9.34</td>\n",
       "    </tr>\n",
       "    <tr>\n",
       "      <th>0</th>\n",
       "      <td>Orange Julius</td>\n",
       "      <td>Kenyon Martin Jr.</td>\n",
       "      <td>833.25</td>\n",
       "      <td>1072.25</td>\n",
       "      <td>21.37</td>\n",
       "      <td>16.00</td>\n",
       "      <td>39.0</td>\n",
       "      <td>5.37</td>\n",
       "    </tr>\n",
       "    <tr>\n",
       "      <th>0</th>\n",
       "      <td>Orange Julius</td>\n",
       "      <td>Killian Hayes</td>\n",
       "      <td>562.75</td>\n",
       "      <td>2194.00</td>\n",
       "      <td>19.41</td>\n",
       "      <td>30.90</td>\n",
       "      <td>29.0</td>\n",
       "      <td>-11.49</td>\n",
       "    </tr>\n",
       "    <tr>\n",
       "      <th>0</th>\n",
       "      <td>Orange Julius</td>\n",
       "      <td>Mason Plumlee</td>\n",
       "      <td>922.50</td>\n",
       "      <td>1913.75</td>\n",
       "      <td>28.83</td>\n",
       "      <td>26.95</td>\n",
       "      <td>32.0</td>\n",
       "      <td>1.88</td>\n",
       "    </tr>\n",
       "    <tr>\n",
       "      <th>0</th>\n",
       "      <td>Orange Julius</td>\n",
       "      <td>Darius Bazley</td>\n",
       "      <td>942.00</td>\n",
       "      <td>2226.25</td>\n",
       "      <td>27.71</td>\n",
       "      <td>29.68</td>\n",
       "      <td>34.0</td>\n",
       "      <td>-1.97</td>\n",
       "    </tr>\n",
       "    <tr>\n",
       "      <th>0</th>\n",
       "      <td>Orange Julius</td>\n",
       "      <td>Royce O'Neale</td>\n",
       "      <td>925.75</td>\n",
       "      <td>1442.75</td>\n",
       "      <td>24.36</td>\n",
       "      <td>18.50</td>\n",
       "      <td>38.0</td>\n",
       "      <td>5.86</td>\n",
       "    </tr>\n",
       "    <tr>\n",
       "      <th>0</th>\n",
       "      <td>Orange Julius</td>\n",
       "      <td>Kelly Olynyk</td>\n",
       "      <td>317.75</td>\n",
       "      <td>1910.50</td>\n",
       "      <td>31.77</td>\n",
       "      <td>25.14</td>\n",
       "      <td>10.0</td>\n",
       "      <td>6.63</td>\n",
       "    </tr>\n",
       "    <tr>\n",
       "      <th>0</th>\n",
       "      <td>Orange Julius</td>\n",
       "      <td>Cameron Johnson</td>\n",
       "      <td>1040.75</td>\n",
       "      <td>1538.00</td>\n",
       "      <td>26.69</td>\n",
       "      <td>20.78</td>\n",
       "      <td>39.0</td>\n",
       "      <td>5.91</td>\n",
       "    </tr>\n",
       "    <tr>\n",
       "      <th>0</th>\n",
       "      <td>Orange Julius</td>\n",
       "      <td>LaMelo Ball</td>\n",
       "      <td>1846.75</td>\n",
       "      <td>3302.25</td>\n",
       "      <td>52.76</td>\n",
       "      <td>44.62</td>\n",
       "      <td>35.0</td>\n",
       "      <td>8.14</td>\n",
       "    </tr>\n",
       "    <tr>\n",
       "      <th>0</th>\n",
       "      <td>Orange Julius</td>\n",
       "      <td>Daniel Gafford</td>\n",
       "      <td>1157.25</td>\n",
       "      <td>1430.25</td>\n",
       "      <td>31.28</td>\n",
       "      <td>19.86</td>\n",
       "      <td>37.0</td>\n",
       "      <td>11.42</td>\n",
       "    </tr>\n",
       "    <tr>\n",
       "      <th>0</th>\n",
       "      <td>Orange Julius</td>\n",
       "      <td>Pat Connaughton</td>\n",
       "      <td>1065.00</td>\n",
       "      <td>1208.25</td>\n",
       "      <td>26.62</td>\n",
       "      <td>16.11</td>\n",
       "      <td>40.0</td>\n",
       "      <td>10.51</td>\n",
       "    </tr>\n",
       "    <tr>\n",
       "      <th>0</th>\n",
       "      <td>Orange Julius</td>\n",
       "      <td>Jalen McDaniels</td>\n",
       "      <td>615.00</td>\n",
       "      <td>1082.25</td>\n",
       "      <td>18.09</td>\n",
       "      <td>15.68</td>\n",
       "      <td>34.0</td>\n",
       "      <td>2.41</td>\n",
       "    </tr>\n",
       "  </tbody>\n",
       "</table>\n",
       "</div>"
      ],
      "text/plain": [
       "            Team               Player  Player Total Points  \\\n",
       "0  Orange Julius        Collin Sexton               326.00   \n",
       "0  Orange Julius         Terry Rozier              1221.00   \n",
       "0  Orange Julius        Julius Randle              2048.25   \n",
       "0  Orange Julius          Bam Adebayo               916.00   \n",
       "0  Orange Julius      Malcolm Brogdon              1169.50   \n",
       "0  Orange Julius       Andrew Wiggins              1310.25   \n",
       "0  Orange Julius      Dejounte Murray              2045.50   \n",
       "0  Orange Julius        Norman Powell              1128.25   \n",
       "0  Orange Julius           Kyle Kuzma              1630.75   \n",
       "0  Orange Julius  Robert Williams III              1267.00   \n",
       "0  Orange Julius    Kenyon Martin Jr.               833.25   \n",
       "0  Orange Julius        Killian Hayes               562.75   \n",
       "0  Orange Julius        Mason Plumlee               922.50   \n",
       "0  Orange Julius        Darius Bazley               942.00   \n",
       "0  Orange Julius        Royce O'Neale               925.75   \n",
       "0  Orange Julius         Kelly Olynyk               317.75   \n",
       "0  Orange Julius      Cameron Johnson              1040.75   \n",
       "0  Orange Julius          LaMelo Ball              1846.75   \n",
       "0  Orange Julius       Daniel Gafford              1157.25   \n",
       "0  Orange Julius      Pat Connaughton              1065.00   \n",
       "0  Orange Julius      Jalen McDaniels               615.00   \n",
       "\n",
       "   Player Proj Total Points  Player Avg Points  Player Proj Avg Points    GP  \\\n",
       "0                   3239.25              29.64                   42.62  11.0   \n",
       "0                   2853.75              38.16                   37.55  32.0   \n",
       "0                   3736.50              52.52                   48.53  39.0   \n",
       "0                   3170.75              50.89                   41.18  18.0   \n",
       "0                   2772.75              44.98                   39.05  26.0   \n",
       "0                   2688.00              37.44                   35.37  35.0   \n",
       "0                   3326.00              58.44                   43.76  35.0   \n",
       "0                   2391.50              33.18                   31.47  34.0   \n",
       "0                   2260.25              42.91                   29.35  38.0   \n",
       "0                   2178.25              39.59                   30.25  32.0   \n",
       "0                   1072.25              21.37                   16.00  39.0   \n",
       "0                   2194.00              19.41                   30.90  29.0   \n",
       "0                   1913.75              28.83                   26.95  32.0   \n",
       "0                   2226.25              27.71                   29.68  34.0   \n",
       "0                   1442.75              24.36                   18.50  38.0   \n",
       "0                   1910.50              31.77                   25.14  10.0   \n",
       "0                   1538.00              26.69                   20.78  39.0   \n",
       "0                   3302.25              52.76                   44.62  35.0   \n",
       "0                   1430.25              31.28                   19.86  37.0   \n",
       "0                   1208.25              26.62                   16.11  40.0   \n",
       "0                   1082.25              18.09                   15.68  34.0   \n",
       "\n",
       "   Player Avg Points Diff  \n",
       "0                  -12.98  \n",
       "0                    0.61  \n",
       "0                    3.99  \n",
       "0                    9.71  \n",
       "0                    5.93  \n",
       "0                    2.07  \n",
       "0                   14.68  \n",
       "0                    1.71  \n",
       "0                   13.56  \n",
       "0                    9.34  \n",
       "0                    5.37  \n",
       "0                  -11.49  \n",
       "0                    1.88  \n",
       "0                   -1.97  \n",
       "0                    5.86  \n",
       "0                    6.63  \n",
       "0                    5.91  \n",
       "0                    8.14  \n",
       "0                   11.42  \n",
       "0                   10.51  \n",
       "0                    2.41  "
      ]
     },
     "execution_count": 15,
     "metadata": {},
     "output_type": "execute_result"
    }
   ],
   "source": [
    "rosters.loc[rosters.Team == 'Orange Julius']"
   ]
  },
  {
   "cell_type": "code",
   "execution_count": 37,
   "metadata": {},
   "outputs": [],
   "source": [
    "pts_diff = rosters.groupby('Team')['Player Avg Points Diff'].sum().reset_index().sort_values('Player Avg Points Diff')\n",
    "pts_diff = pts_diff.rename(columns={'Player Avg Points Diff':'Fantasy Points'})\n",
    "pts_diff['Fantasy Points'] = pts_diff['Fantasy Points'].astype(int)"
   ]
  },
  {
   "cell_type": "code",
   "execution_count": 46,
   "metadata": {},
   "outputs": [
    {
     "data": {
      "application/vnd.plotly.v1+json": {
       "config": {
        "plotlyServerURL": "https://plot.ly"
       },
       "data": [
        {
         "alignmentgroup": "True",
         "hovertemplate": "Team=%{x}<br>Fantasy Points=%{y}<extra></extra>",
         "legendgroup": "",
         "marker": {
          "color": "#636efa",
          "pattern": {
           "shape": ""
          }
         },
         "name": "",
         "offsetgroup": "",
         "orientation": "v",
         "showlegend": false,
         "textposition": "auto",
         "texttemplate": "%{y}",
         "type": "bar",
         "x": [
          "Minas Tirith Isildur",
          "Team Schmitt",
          "Clovis Bruisers",
          "Wittle Dwibblers",
          "Team Etheridge",
          "Orange Julius",
          "Ball Fondlers",
          "Hield Raisers ",
          "Southern White Tail Racks ",
          "Noob Noob"
         ],
         "xaxis": "x",
         "y": [
          26,
          37,
          44,
          62,
          69,
          93,
          108,
          116,
          120,
          122
         ],
         "yaxis": "y"
        }
       ],
       "layout": {
        "barmode": "relative",
        "legend": {
         "tracegroupgap": 0
        },
        "template": {
         "data": {
          "bar": [
           {
            "error_x": {
             "color": "#2a3f5f"
            },
            "error_y": {
             "color": "#2a3f5f"
            },
            "marker": {
             "line": {
              "color": "#E5ECF6",
              "width": 0.5
             },
             "pattern": {
              "fillmode": "overlay",
              "size": 10,
              "solidity": 0.2
             }
            },
            "type": "bar"
           }
          ],
          "barpolar": [
           {
            "marker": {
             "line": {
              "color": "#E5ECF6",
              "width": 0.5
             },
             "pattern": {
              "fillmode": "overlay",
              "size": 10,
              "solidity": 0.2
             }
            },
            "type": "barpolar"
           }
          ],
          "carpet": [
           {
            "aaxis": {
             "endlinecolor": "#2a3f5f",
             "gridcolor": "white",
             "linecolor": "white",
             "minorgridcolor": "white",
             "startlinecolor": "#2a3f5f"
            },
            "baxis": {
             "endlinecolor": "#2a3f5f",
             "gridcolor": "white",
             "linecolor": "white",
             "minorgridcolor": "white",
             "startlinecolor": "#2a3f5f"
            },
            "type": "carpet"
           }
          ],
          "choropleth": [
           {
            "colorbar": {
             "outlinewidth": 0,
             "ticks": ""
            },
            "type": "choropleth"
           }
          ],
          "contour": [
           {
            "colorbar": {
             "outlinewidth": 0,
             "ticks": ""
            },
            "colorscale": [
             [
              0,
              "#0d0887"
             ],
             [
              0.1111111111111111,
              "#46039f"
             ],
             [
              0.2222222222222222,
              "#7201a8"
             ],
             [
              0.3333333333333333,
              "#9c179e"
             ],
             [
              0.4444444444444444,
              "#bd3786"
             ],
             [
              0.5555555555555556,
              "#d8576b"
             ],
             [
              0.6666666666666666,
              "#ed7953"
             ],
             [
              0.7777777777777778,
              "#fb9f3a"
             ],
             [
              0.8888888888888888,
              "#fdca26"
             ],
             [
              1,
              "#f0f921"
             ]
            ],
            "type": "contour"
           }
          ],
          "contourcarpet": [
           {
            "colorbar": {
             "outlinewidth": 0,
             "ticks": ""
            },
            "type": "contourcarpet"
           }
          ],
          "heatmap": [
           {
            "colorbar": {
             "outlinewidth": 0,
             "ticks": ""
            },
            "colorscale": [
             [
              0,
              "#0d0887"
             ],
             [
              0.1111111111111111,
              "#46039f"
             ],
             [
              0.2222222222222222,
              "#7201a8"
             ],
             [
              0.3333333333333333,
              "#9c179e"
             ],
             [
              0.4444444444444444,
              "#bd3786"
             ],
             [
              0.5555555555555556,
              "#d8576b"
             ],
             [
              0.6666666666666666,
              "#ed7953"
             ],
             [
              0.7777777777777778,
              "#fb9f3a"
             ],
             [
              0.8888888888888888,
              "#fdca26"
             ],
             [
              1,
              "#f0f921"
             ]
            ],
            "type": "heatmap"
           }
          ],
          "heatmapgl": [
           {
            "colorbar": {
             "outlinewidth": 0,
             "ticks": ""
            },
            "colorscale": [
             [
              0,
              "#0d0887"
             ],
             [
              0.1111111111111111,
              "#46039f"
             ],
             [
              0.2222222222222222,
              "#7201a8"
             ],
             [
              0.3333333333333333,
              "#9c179e"
             ],
             [
              0.4444444444444444,
              "#bd3786"
             ],
             [
              0.5555555555555556,
              "#d8576b"
             ],
             [
              0.6666666666666666,
              "#ed7953"
             ],
             [
              0.7777777777777778,
              "#fb9f3a"
             ],
             [
              0.8888888888888888,
              "#fdca26"
             ],
             [
              1,
              "#f0f921"
             ]
            ],
            "type": "heatmapgl"
           }
          ],
          "histogram": [
           {
            "marker": {
             "pattern": {
              "fillmode": "overlay",
              "size": 10,
              "solidity": 0.2
             }
            },
            "type": "histogram"
           }
          ],
          "histogram2d": [
           {
            "colorbar": {
             "outlinewidth": 0,
             "ticks": ""
            },
            "colorscale": [
             [
              0,
              "#0d0887"
             ],
             [
              0.1111111111111111,
              "#46039f"
             ],
             [
              0.2222222222222222,
              "#7201a8"
             ],
             [
              0.3333333333333333,
              "#9c179e"
             ],
             [
              0.4444444444444444,
              "#bd3786"
             ],
             [
              0.5555555555555556,
              "#d8576b"
             ],
             [
              0.6666666666666666,
              "#ed7953"
             ],
             [
              0.7777777777777778,
              "#fb9f3a"
             ],
             [
              0.8888888888888888,
              "#fdca26"
             ],
             [
              1,
              "#f0f921"
             ]
            ],
            "type": "histogram2d"
           }
          ],
          "histogram2dcontour": [
           {
            "colorbar": {
             "outlinewidth": 0,
             "ticks": ""
            },
            "colorscale": [
             [
              0,
              "#0d0887"
             ],
             [
              0.1111111111111111,
              "#46039f"
             ],
             [
              0.2222222222222222,
              "#7201a8"
             ],
             [
              0.3333333333333333,
              "#9c179e"
             ],
             [
              0.4444444444444444,
              "#bd3786"
             ],
             [
              0.5555555555555556,
              "#d8576b"
             ],
             [
              0.6666666666666666,
              "#ed7953"
             ],
             [
              0.7777777777777778,
              "#fb9f3a"
             ],
             [
              0.8888888888888888,
              "#fdca26"
             ],
             [
              1,
              "#f0f921"
             ]
            ],
            "type": "histogram2dcontour"
           }
          ],
          "mesh3d": [
           {
            "colorbar": {
             "outlinewidth": 0,
             "ticks": ""
            },
            "type": "mesh3d"
           }
          ],
          "parcoords": [
           {
            "line": {
             "colorbar": {
              "outlinewidth": 0,
              "ticks": ""
             }
            },
            "type": "parcoords"
           }
          ],
          "pie": [
           {
            "automargin": true,
            "type": "pie"
           }
          ],
          "scatter": [
           {
            "marker": {
             "colorbar": {
              "outlinewidth": 0,
              "ticks": ""
             }
            },
            "type": "scatter"
           }
          ],
          "scatter3d": [
           {
            "line": {
             "colorbar": {
              "outlinewidth": 0,
              "ticks": ""
             }
            },
            "marker": {
             "colorbar": {
              "outlinewidth": 0,
              "ticks": ""
             }
            },
            "type": "scatter3d"
           }
          ],
          "scattercarpet": [
           {
            "marker": {
             "colorbar": {
              "outlinewidth": 0,
              "ticks": ""
             }
            },
            "type": "scattercarpet"
           }
          ],
          "scattergeo": [
           {
            "marker": {
             "colorbar": {
              "outlinewidth": 0,
              "ticks": ""
             }
            },
            "type": "scattergeo"
           }
          ],
          "scattergl": [
           {
            "marker": {
             "colorbar": {
              "outlinewidth": 0,
              "ticks": ""
             }
            },
            "type": "scattergl"
           }
          ],
          "scattermapbox": [
           {
            "marker": {
             "colorbar": {
              "outlinewidth": 0,
              "ticks": ""
             }
            },
            "type": "scattermapbox"
           }
          ],
          "scatterpolar": [
           {
            "marker": {
             "colorbar": {
              "outlinewidth": 0,
              "ticks": ""
             }
            },
            "type": "scatterpolar"
           }
          ],
          "scatterpolargl": [
           {
            "marker": {
             "colorbar": {
              "outlinewidth": 0,
              "ticks": ""
             }
            },
            "type": "scatterpolargl"
           }
          ],
          "scatterternary": [
           {
            "marker": {
             "colorbar": {
              "outlinewidth": 0,
              "ticks": ""
             }
            },
            "type": "scatterternary"
           }
          ],
          "surface": [
           {
            "colorbar": {
             "outlinewidth": 0,
             "ticks": ""
            },
            "colorscale": [
             [
              0,
              "#0d0887"
             ],
             [
              0.1111111111111111,
              "#46039f"
             ],
             [
              0.2222222222222222,
              "#7201a8"
             ],
             [
              0.3333333333333333,
              "#9c179e"
             ],
             [
              0.4444444444444444,
              "#bd3786"
             ],
             [
              0.5555555555555556,
              "#d8576b"
             ],
             [
              0.6666666666666666,
              "#ed7953"
             ],
             [
              0.7777777777777778,
              "#fb9f3a"
             ],
             [
              0.8888888888888888,
              "#fdca26"
             ],
             [
              1,
              "#f0f921"
             ]
            ],
            "type": "surface"
           }
          ],
          "table": [
           {
            "cells": {
             "fill": {
              "color": "#EBF0F8"
             },
             "line": {
              "color": "white"
             }
            },
            "header": {
             "fill": {
              "color": "#C8D4E3"
             },
             "line": {
              "color": "white"
             }
            },
            "type": "table"
           }
          ]
         },
         "layout": {
          "annotationdefaults": {
           "arrowcolor": "#2a3f5f",
           "arrowhead": 0,
           "arrowwidth": 1
          },
          "autotypenumbers": "strict",
          "coloraxis": {
           "colorbar": {
            "outlinewidth": 0,
            "ticks": ""
           }
          },
          "colorscale": {
           "diverging": [
            [
             0,
             "#8e0152"
            ],
            [
             0.1,
             "#c51b7d"
            ],
            [
             0.2,
             "#de77ae"
            ],
            [
             0.3,
             "#f1b6da"
            ],
            [
             0.4,
             "#fde0ef"
            ],
            [
             0.5,
             "#f7f7f7"
            ],
            [
             0.6,
             "#e6f5d0"
            ],
            [
             0.7,
             "#b8e186"
            ],
            [
             0.8,
             "#7fbc41"
            ],
            [
             0.9,
             "#4d9221"
            ],
            [
             1,
             "#276419"
            ]
           ],
           "sequential": [
            [
             0,
             "#0d0887"
            ],
            [
             0.1111111111111111,
             "#46039f"
            ],
            [
             0.2222222222222222,
             "#7201a8"
            ],
            [
             0.3333333333333333,
             "#9c179e"
            ],
            [
             0.4444444444444444,
             "#bd3786"
            ],
            [
             0.5555555555555556,
             "#d8576b"
            ],
            [
             0.6666666666666666,
             "#ed7953"
            ],
            [
             0.7777777777777778,
             "#fb9f3a"
            ],
            [
             0.8888888888888888,
             "#fdca26"
            ],
            [
             1,
             "#f0f921"
            ]
           ],
           "sequentialminus": [
            [
             0,
             "#0d0887"
            ],
            [
             0.1111111111111111,
             "#46039f"
            ],
            [
             0.2222222222222222,
             "#7201a8"
            ],
            [
             0.3333333333333333,
             "#9c179e"
            ],
            [
             0.4444444444444444,
             "#bd3786"
            ],
            [
             0.5555555555555556,
             "#d8576b"
            ],
            [
             0.6666666666666666,
             "#ed7953"
            ],
            [
             0.7777777777777778,
             "#fb9f3a"
            ],
            [
             0.8888888888888888,
             "#fdca26"
            ],
            [
             1,
             "#f0f921"
            ]
           ]
          },
          "colorway": [
           "#636efa",
           "#EF553B",
           "#00cc96",
           "#ab63fa",
           "#FFA15A",
           "#19d3f3",
           "#FF6692",
           "#B6E880",
           "#FF97FF",
           "#FECB52"
          ],
          "font": {
           "color": "#2a3f5f"
          },
          "geo": {
           "bgcolor": "white",
           "lakecolor": "white",
           "landcolor": "#E5ECF6",
           "showlakes": true,
           "showland": true,
           "subunitcolor": "white"
          },
          "hoverlabel": {
           "align": "left"
          },
          "hovermode": "closest",
          "mapbox": {
           "style": "light"
          },
          "paper_bgcolor": "white",
          "plot_bgcolor": "#E5ECF6",
          "polar": {
           "angularaxis": {
            "gridcolor": "white",
            "linecolor": "white",
            "ticks": ""
           },
           "bgcolor": "#E5ECF6",
           "radialaxis": {
            "gridcolor": "white",
            "linecolor": "white",
            "ticks": ""
           }
          },
          "scene": {
           "xaxis": {
            "backgroundcolor": "#E5ECF6",
            "gridcolor": "white",
            "gridwidth": 2,
            "linecolor": "white",
            "showbackground": true,
            "ticks": "",
            "zerolinecolor": "white"
           },
           "yaxis": {
            "backgroundcolor": "#E5ECF6",
            "gridcolor": "white",
            "gridwidth": 2,
            "linecolor": "white",
            "showbackground": true,
            "ticks": "",
            "zerolinecolor": "white"
           },
           "zaxis": {
            "backgroundcolor": "#E5ECF6",
            "gridcolor": "white",
            "gridwidth": 2,
            "linecolor": "white",
            "showbackground": true,
            "ticks": "",
            "zerolinecolor": "white"
           }
          },
          "shapedefaults": {
           "line": {
            "color": "#2a3f5f"
           }
          },
          "ternary": {
           "aaxis": {
            "gridcolor": "white",
            "linecolor": "white",
            "ticks": ""
           },
           "baxis": {
            "gridcolor": "white",
            "linecolor": "white",
            "ticks": ""
           },
           "bgcolor": "#E5ECF6",
           "caxis": {
            "gridcolor": "white",
            "linecolor": "white",
            "ticks": ""
           }
          },
          "title": {
           "x": 0.05
          },
          "xaxis": {
           "automargin": true,
           "gridcolor": "white",
           "linecolor": "white",
           "ticks": "",
           "title": {
            "standoff": 15
           },
           "zerolinecolor": "white",
           "zerolinewidth": 2
          },
          "yaxis": {
           "automargin": true,
           "gridcolor": "white",
           "linecolor": "white",
           "ticks": "",
           "title": {
            "standoff": 15
           },
           "zerolinecolor": "white",
           "zerolinewidth": 2
          }
         }
        },
        "title": {
         "text": "Actual vs. Projected Average Fantasy Points"
        },
        "xaxis": {
         "anchor": "y",
         "domain": [
          0,
          1
         ],
         "title": {
          "text": "Team"
         }
        },
        "yaxis": {
         "anchor": "x",
         "domain": [
          0,
          1
         ],
         "title": {
          "text": "Fantasy Points"
         }
        }
       }
      }
     },
     "metadata": {},
     "output_type": "display_data"
    }
   ],
   "source": [
    "fig = px.bar(pts_diff, x='Team', y='Fantasy Points', title='Actual vs. Projected Average Fantasy Points', text_auto=True)\n",
    "fig.show()"
   ]
  },
  {
   "cell_type": "markdown",
   "metadata": {},
   "source": [
    "## Matchups"
   ]
  },
  {
   "cell_type": "code",
   "execution_count": 5,
   "metadata": {},
   "outputs": [
    {
     "ename": "AttributeError",
     "evalue": "'League' object has no attribute 'matchup'",
     "output_type": "error",
     "traceback": [
      "\u001b[0;31m---------------------------------------------------------------------------\u001b[0m",
      "\u001b[0;31mAttributeError\u001b[0m                            Traceback (most recent call last)",
      "\u001b[0;32m<ipython-input-5-e39327d5f0ce>\u001b[0m in \u001b[0;36m<module>\u001b[0;34m\u001b[0m\n\u001b[0;32m----> 1\u001b[0;31m \u001b[0;32mfor\u001b[0m \u001b[0mmatchup\u001b[0m \u001b[0;32min\u001b[0m \u001b[0mleague\u001b[0m\u001b[0;34m.\u001b[0m\u001b[0mmatchup\u001b[0m\u001b[0;34m:\u001b[0m\u001b[0;34m\u001b[0m\u001b[0;34m\u001b[0m\u001b[0m\n\u001b[0m\u001b[1;32m      2\u001b[0m     \u001b[0mprint\u001b[0m\u001b[0;34m(\u001b[0m\u001b[0mmatchup\u001b[0m\u001b[0;34m)\u001b[0m\u001b[0;34m\u001b[0m\u001b[0;34m\u001b[0m\u001b[0m\n",
      "\u001b[0;31mAttributeError\u001b[0m: 'League' object has no attribute 'matchup'"
     ]
    }
   ],
   "source": [
    "for matchup in league.matchup:\n",
    "    print(matchup)"
   ]
  },
  {
   "cell_type": "code",
   "execution_count": 16,
   "metadata": {},
   "outputs": [
    {
     "data": {
      "text/plain": [
       "[Box Score(Team(Wittle Dwibblers) at Team(Team Schmitt)),\n",
       " Box Score(Team(Team Etheridge) at Team(Hield Raisers )),\n",
       " Box Score(Team(Minas Tirith Isildur) at Team(Ball Fondlers)),\n",
       " Box Score(Team(Orange Julius) at Team(Southern White Tail Racks )),\n",
       " Box Score(Team(Clovis Bruisers) at Team(Noob Noob))]"
      ]
     },
     "execution_count": 16,
     "metadata": {},
     "output_type": "execute_result"
    }
   ],
   "source": [
    "league.box_scores(matchup_period=2)"
   ]
  },
  {
   "cell_type": "code",
   "execution_count": null,
   "metadata": {},
   "outputs": [],
   "source": []
  }
 ],
 "metadata": {
  "interpreter": {
   "hash": "9dc158441d677425608de74daf0cc2be1f41fd51b14d005a867a094849eb870b"
  },
  "kernelspec": {
   "display_name": "Python 3.7.7 64-bit ('base': conda)",
   "language": "python",
   "name": "python3"
  },
  "language_info": {
   "codemirror_mode": {
    "name": "ipython",
    "version": 3
   },
   "file_extension": ".py",
   "mimetype": "text/x-python",
   "name": "python",
   "nbconvert_exporter": "python",
   "pygments_lexer": "ipython3",
   "version": "3.7.7"
  },
  "orig_nbformat": 4
 },
 "nbformat": 4,
 "nbformat_minor": 2
}
